{
  "nbformat": 4,
  "nbformat_minor": 0,
  "metadata": {
    "colab": {
      "provenance": []
    },
    "kernelspec": {
      "name": "python3",
      "display_name": "Python 3"
    },
    "language_info": {
      "name": "python"
    }
  },
  "cells": [
    {
      "cell_type": "code",
      "execution_count": null,
      "metadata": {
        "colab": {
          "base_uri": "https://localhost:8080/",
          "height": 35
        },
        "id": "5srLHXt_dViz",
        "outputId": "2ead0827-162f-4fd1-b6be-4bd92f5bdde6"
      },
      "outputs": [
        {
          "output_type": "execute_result",
          "data": {
            "text/plain": [
              "'Write a Python program to find the area of a circle with a given radius\\nusing the formula area = pi * r ** 2. Assume that pi is 3.14'"
            ],
            "application/vnd.google.colaboratory.intrinsic+json": {
              "type": "string"
            }
          },
          "metadata": {},
          "execution_count": 2
        }
      ],
      "source": [
        "'''Write a Python program to find the area of a circle with a given radius\n",
        "using the formula area = pi * r ** 2. Assume that pi is 3.14'''"
      ]
    },
    {
      "cell_type": "code",
      "source": [
        "r = int(input('Enter the radius of the circle:'))\n",
        "pi = 3.14\n",
        "area = pi*r**2\n",
        "print('area of the circle is:', area)"
      ],
      "metadata": {
        "colab": {
          "base_uri": "https://localhost:8080/"
        },
        "id": "4VcDMtaadoFo",
        "outputId": "06fac529-3447-4eda-89e7-81d80fd23b61"
      },
      "execution_count": null,
      "outputs": [
        {
          "output_type": "stream",
          "name": "stdout",
          "text": [
            "Enter the radius of the circle:4\n",
            "area of the circle is: 50.24\n"
          ]
        }
      ]
    },
    {
      "cell_type": "code",
      "source": [
        "'''Write a Python program to convert Celsius to Fahrenheit using the\n",
        "formula F = (C * 9/5) + 32.'''"
      ],
      "metadata": {
        "colab": {
          "base_uri": "https://localhost:8080/",
          "height": 35
        },
        "id": "Rn3tMJPIePs8",
        "outputId": "0973f678-c386-49f6-aff2-462965d19898"
      },
      "execution_count": null,
      "outputs": [
        {
          "output_type": "execute_result",
          "data": {
            "text/plain": [
              "'Write a Python program to convert Celsius to Fahrenheit using the\\nformula F = (C * 9/5) + 32.'"
            ],
            "application/vnd.google.colaboratory.intrinsic+json": {
              "type": "string"
            }
          },
          "metadata": {},
          "execution_count": 4
        }
      ]
    },
    {
      "cell_type": "code",
      "source": [
        "c=float(input('Enter the celsius: '))\n",
        "f=(c*9/5) + 32\n",
        "print('The fahrenheit is: ',f)"
      ],
      "metadata": {
        "colab": {
          "base_uri": "https://localhost:8080/"
        },
        "id": "asE7i0Ypeads",
        "outputId": "a2891f83-82c2-4092-a3f5-37455114080e"
      },
      "execution_count": null,
      "outputs": [
        {
          "output_type": "stream",
          "name": "stdout",
          "text": [
            "Enter the celsius: 25.5\n",
            "The fahrenheit is:  77.9\n"
          ]
        }
      ]
    },
    {
      "cell_type": "code",
      "source": [
        "'''Write a Python program to find the quotient and remainder of two\n",
        "numbers using the division operator / and the modulo operator %.'''\n"
      ],
      "metadata": {
        "colab": {
          "base_uri": "https://localhost:8080/",
          "height": 35
        },
        "id": "9k2eEsCbfUjE",
        "outputId": "334a2031-1b6a-4055-b944-b5750b2a0407"
      },
      "execution_count": null,
      "outputs": [
        {
          "output_type": "execute_result",
          "data": {
            "text/plain": [
              "'Write a Python program to find the quotient and remainder of two\\nnumbers using the division operator / and the modulo operator %.'"
            ],
            "application/vnd.google.colaboratory.intrinsic+json": {
              "type": "string"
            }
          },
          "metadata": {},
          "execution_count": 6
        }
      ]
    },
    {
      "cell_type": "code",
      "source": [
        "a=int(input('Enter the first number: '))\n",
        "b=int(input('Enter the second number: '))\n",
        "quotient=a/b\n",
        "reminder=a%b\n",
        "print('The quotient is: ',quotient)\n",
        "print('The reminder is: ',reminder)"
      ],
      "metadata": {
        "colab": {
          "base_uri": "https://localhost:8080/"
        },
        "id": "2w5hKeM6fjom",
        "outputId": "db7286c5-9c3b-4dd8-a3c3-42a3116637e8"
      },
      "execution_count": null,
      "outputs": [
        {
          "output_type": "stream",
          "name": "stdout",
          "text": [
            "Enter the first number: 5\n",
            "Enter the second number: 3\n",
            "The quotient is:  1.6666666666666667\n",
            "The reminder is:  2\n"
          ]
        }
      ]
    },
    {
      "cell_type": "code",
      "source": [
        "'''Write a Python program to check whether a given number is even or odd\n",
        "using the modulo operator %.'''"
      ],
      "metadata": {
        "colab": {
          "base_uri": "https://localhost:8080/",
          "height": 35
        },
        "id": "vJXFnz02f02o",
        "outputId": "b3f0f66c-2384-4e90-97c5-6abcdf34d491"
      },
      "execution_count": null,
      "outputs": [
        {
          "output_type": "execute_result",
          "data": {
            "text/plain": [
              "'Write a Python program to check whether a given number is even or odd\\nusing the modulo operator %.'"
            ],
            "application/vnd.google.colaboratory.intrinsic+json": {
              "type": "string"
            }
          },
          "metadata": {},
          "execution_count": 9
        }
      ]
    },
    {
      "cell_type": "code",
      "source": [
        "num=int(input('Enter the number: '))\n",
        "if num%2==0:\n",
        "  print('The number is even')\n",
        "else:\n",
        "  print('The number is odd')"
      ],
      "metadata": {
        "colab": {
          "base_uri": "https://localhost:8080/"
        },
        "id": "vIGG_5oyhHpM",
        "outputId": "6f73c069-1b9e-4a67-cd1e-e42a5c78b31e"
      },
      "execution_count": null,
      "outputs": [
        {
          "output_type": "stream",
          "name": "stdout",
          "text": [
            "Enter the number: 34\n",
            "The number is even\n"
          ]
        }
      ]
    },
    {
      "cell_type": "code",
      "source": [
        "'''Write a Python program to calculate the average of three numbers\n",
        "entered by the user.'''"
      ],
      "metadata": {
        "id": "EBnj-BckuoSe",
        "colab": {
          "base_uri": "https://localhost:8080/",
          "height": 35
        },
        "outputId": "2d3bea4d-1225-4a46-f803-25de18f3b9ae"
      },
      "execution_count": null,
      "outputs": [
        {
          "output_type": "execute_result",
          "data": {
            "text/plain": [
              "'Write a Python program to calculate the average of three numbers\\nentered by the user.'"
            ],
            "application/vnd.google.colaboratory.intrinsic+json": {
              "type": "string"
            }
          },
          "metadata": {},
          "execution_count": 12
        }
      ]
    },
    {
      "cell_type": "code",
      "source": [
        "n1=int(input('Enter the first number'))\n",
        "n2=int(input('Enter the second number'))\n",
        "n3=int(input('Enter the third number'))\n",
        "avg=(n1+n2+n3)/3\n",
        "print('The average of three number',avg)"
      ],
      "metadata": {
        "colab": {
          "base_uri": "https://localhost:8080/"
        },
        "id": "Ac_FA91yuSdV",
        "outputId": "3be97dee-aabe-4961-c4fa-b8ddda2c392c"
      },
      "execution_count": null,
      "outputs": [
        {
          "output_type": "stream",
          "name": "stdout",
          "text": [
            "Enter the first number3\n",
            "Enter the second number8\n",
            "Enter the third number7\n",
            "The average of three number 6.0\n"
          ]
        }
      ]
    },
    {
      "cell_type": "code",
      "source": [
        "'''Write a Python program to swap two variables without using a\n",
        "temporary variable.'''"
      ],
      "metadata": {
        "colab": {
          "base_uri": "https://localhost:8080/",
          "height": 35
        },
        "id": "OIWN_ToNv2uL",
        "outputId": "299c07d5-fd5b-4959-b1a8-d18f88a01ef7"
      },
      "execution_count": null,
      "outputs": [
        {
          "output_type": "execute_result",
          "data": {
            "text/plain": [
              "'Write a Python program to swap two variables without using a\\ntemporary variable.'"
            ],
            "application/vnd.google.colaboratory.intrinsic+json": {
              "type": "string"
            }
          },
          "metadata": {},
          "execution_count": 14
        }
      ]
    },
    {
      "cell_type": "code",
      "source": [
        "v1=int(input('Enter the integer one:'))\n",
        "v2=int(input('Enter the integer two:'))\n",
        "v1=v1+v2\n",
        "v2=v1-v2\n",
        "v1=v1-v2\n",
        "print('The value of v1 is now= ',v1)\n",
        "print('The value of v2 is now= ',v2)"
      ],
      "metadata": {
        "colab": {
          "base_uri": "https://localhost:8080/"
        },
        "id": "jvjCOgrgwNYG",
        "outputId": "ee755778-27f4-40eb-ba9d-bde98b4b7fd7"
      },
      "execution_count": null,
      "outputs": [
        {
          "output_type": "stream",
          "name": "stdout",
          "text": [
            "Enter the integer one:4\n",
            "Enter the integer two:5\n",
            "The value of v1 is now=  5\n",
            "The value of v2 is now=  4\n"
          ]
        }
      ]
    },
    {
      "cell_type": "code",
      "source": [
        "'''Write a Python program to calculate the area of a rectangle with given\n",
        "length and breadth.'''"
      ],
      "metadata": {
        "id": "LoJUu1aayTcK",
        "colab": {
          "base_uri": "https://localhost:8080/",
          "height": 35
        },
        "outputId": "fd4b7001-944a-42ef-8f5f-fb530c1b8402"
      },
      "execution_count": null,
      "outputs": [
        {
          "output_type": "execute_result",
          "data": {
            "text/plain": [
              "'Write a Python program to calculate the area of a rectangle with given\\nlength and breadth.'"
            ],
            "application/vnd.google.colaboratory.intrinsic+json": {
              "type": "string"
            }
          },
          "metadata": {},
          "execution_count": 1
        }
      ]
    },
    {
      "cell_type": "code",
      "source": [
        "l=int(input('Enter the lenght of the rectangle: '))\n",
        "b=int(input('Enter the breadth of the rectangle: '))\n",
        "area=l*b\n",
        "print('Area of the rectangle is: ',area)"
      ],
      "metadata": {
        "colab": {
          "base_uri": "https://localhost:8080/"
        },
        "id": "5fajHMtxEYv5",
        "outputId": "87f0848a-ee3a-4d28-ae55-d7d2e8d7d53b"
      },
      "execution_count": null,
      "outputs": [
        {
          "output_type": "stream",
          "name": "stdout",
          "text": [
            "Enter the lenght of the rectangle: 5\n",
            "Enter the breadth of the rectangle: 7\n",
            "Area of the rectangle is:  35\n"
          ]
        }
      ]
    },
    {
      "cell_type": "code",
      "source": [
        "'''Write a Python program to calculate the sum of the digits of a three-digit\n",
        "number.'''"
      ],
      "metadata": {
        "colab": {
          "base_uri": "https://localhost:8080/",
          "height": 35
        },
        "id": "6i89spIYEl4I",
        "outputId": "ad2e8499-4ca3-4287-caaf-9d4d249c7a72"
      },
      "execution_count": null,
      "outputs": [
        {
          "output_type": "execute_result",
          "data": {
            "text/plain": [
              "'Write a Python program to calculate the sum of the digits of a three-digit\\nnumber.'"
            ],
            "application/vnd.google.colaboratory.intrinsic+json": {
              "type": "string"
            }
          },
          "metadata": {},
          "execution_count": 3
        }
      ]
    },
    {
      "cell_type": "code",
      "source": [
        "num=int(input('Enter the 3 digit number: '))\n",
        "sum=num//100+(num%100)//10+num%10\n",
        "print('The sum of thed digits of the number is: ',sum)"
      ],
      "metadata": {
        "colab": {
          "base_uri": "https://localhost:8080/"
        },
        "id": "uqsd9O8-EshA",
        "outputId": "25b0055a-700c-4312-d28e-54d5a81d8547"
      },
      "execution_count": null,
      "outputs": [
        {
          "output_type": "stream",
          "name": "stdout",
          "text": [
            "Enter the 3 digit number: 345\n",
            "The sum of thed digits of the number is:  12\n"
          ]
        }
      ]
    },
    {
      "cell_type": "code",
      "source": [
        "'''Write a Python program to check whether a given year is a leap year or\n",
        "not.'''"
      ],
      "metadata": {
        "colab": {
          "base_uri": "https://localhost:8080/",
          "height": 35
        },
        "id": "BHIi3XElEzcQ",
        "outputId": "c58be351-9afc-44e3-8c20-d541a232fa11"
      },
      "execution_count": null,
      "outputs": [
        {
          "output_type": "execute_result",
          "data": {
            "text/plain": [
              "'Write a Python program to check whether a given year is a leap year or\\nnot.'"
            ],
            "application/vnd.google.colaboratory.intrinsic+json": {
              "type": "string"
            }
          },
          "metadata": {},
          "execution_count": 5
        }
      ]
    },
    {
      "cell_type": "code",
      "source": [
        "year=int(input('Enter the year: '))\n",
        "if year%4==0:\n",
        "  if year%100==0:\n",
        "    if year%400==0:\n",
        "      print('The year is a leap year')\n",
        "    else:\n",
        "      print('The year is not a leap year')\n",
        "  else:\n",
        "    print('The year is a leap year')\n",
        "else:\n",
        "  print('The year is not a leap year')"
      ],
      "metadata": {
        "colab": {
          "base_uri": "https://localhost:8080/"
        },
        "id": "bQaDBUQoE6ei",
        "outputId": "ef33e01f-f66b-44f5-fc4a-d9718d9b18fe"
      },
      "execution_count": null,
      "outputs": [
        {
          "output_type": "stream",
          "name": "stdout",
          "text": [
            "Enter the year: 2021\n",
            "The year is not a leap year\n"
          ]
        }
      ]
    },
    {
      "cell_type": "code",
      "source": [
        "'''Write a Python program to find the maximum and minimum of two\n",
        "numbers entered by the user.'''"
      ],
      "metadata": {
        "colab": {
          "base_uri": "https://localhost:8080/",
          "height": 35
        },
        "id": "qr5LCY1FE_NU",
        "outputId": "1748dbda-6072-4d41-dbfc-926336635a11"
      },
      "execution_count": null,
      "outputs": [
        {
          "output_type": "execute_result",
          "data": {
            "text/plain": [
              "'Write a Python program to find the maximum and minimum of two\\nnumbers entered by the user.'"
            ],
            "application/vnd.google.colaboratory.intrinsic+json": {
              "type": "string"
            }
          },
          "metadata": {},
          "execution_count": 7
        }
      ]
    },
    {
      "cell_type": "code",
      "source": [
        "a=float(input('Enter the first number: '))\n",
        "b=float(input('Enter the second number: '))\n",
        "if a>b:\n",
        "  max=a\n",
        "else:\n",
        "  max=b\n",
        "if a<b:\n",
        "  min=a\n",
        "else:\n",
        "  min=b\n",
        "print('The maximum of two number is: ',max)\n",
        "print('The minimum of two number is: ',min)"
      ],
      "metadata": {
        "colab": {
          "base_uri": "https://localhost:8080/"
        },
        "id": "RtpyC7UdFFgp",
        "outputId": "65099824-0ef5-47d6-8fe7-3b10d8065cfc"
      },
      "execution_count": null,
      "outputs": [
        {
          "output_type": "stream",
          "name": "stdout",
          "text": [
            "Enter the first number: 31\n",
            "Enter the second number: 5\n",
            "The maximum of two number is:  31.0\n",
            "The minimum of two number is:  5.0\n"
          ]
        }
      ]
    },
    {
      "cell_type": "code",
      "source": [],
      "metadata": {
        "id": "CeWzc6eJFLK4"
      },
      "execution_count": null,
      "outputs": []
    }
  ]
}